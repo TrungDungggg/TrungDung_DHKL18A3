{
 "cells": [
  {
   "cell_type": "code",
   "execution_count": 1,
   "id": "304e8b39",
   "metadata": {},
   "outputs": [
    {
     "name": "stdout",
     "output_type": "stream",
     "text": [
      "#document\n",
      "company\n",
      "Tên của từng phần tử trong sample.xml: \n",
      "company\n",
      "name\n",
      "staff\n",
      "name\n",
      "salary\n",
      "staff\n",
      "name\n",
      "salary\n"
     ]
    }
   ],
   "source": [
    "import xml.dom.minidom\n",
    "def main():\n",
    "    doc=xml.dom.minidom.parse(\"sample.xml\")\n",
    "    print(doc.nodeName)\n",
    "    print(doc.firstChild.tagName)\n",
    "    ds_phan_tu = doc.getElementsByTagName(\"*\")\n",
    "    print(\"Tên của từng phần tử trong sample.xml: \")\n",
    "    for name in ds_phan_tu:\n",
    "        print(name.tagName)\n",
    "if __name__==\"__main__\":\n",
    "    main()\n"
   ]
  }
 ],
 "metadata": {
  "kernelspec": {
   "display_name": "Python 3",
   "language": "python",
   "name": "python3"
  },
  "language_info": {
   "codemirror_mode": {
    "name": "ipython",
    "version": 3
   },
   "file_extension": ".py",
   "mimetype": "text/x-python",
   "name": "python",
   "nbconvert_exporter": "python",
   "pygments_lexer": "ipython3",
   "version": "3.13.7"
  }
 },
 "nbformat": 4,
 "nbformat_minor": 5
}
