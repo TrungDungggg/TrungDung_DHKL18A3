{
 "cells": [
  {
   "cell_type": "code",
   "execution_count": 38,
   "id": "9b2d871c",
   "metadata": {},
   "outputs": [
    {
     "name": "stdout",
     "output_type": "stream",
     "text": [
      "Tên công ty:Công ty TNHH Đất Việt\n",
      "Địa chỉ công ty:123-Giải Phóng-Hà Nội\n",
      "Nhân viên:5\n",
      "-- Thống kê nhân viên theo đơn vị --\n",
      "1./ Tên đơn vị: A1\n",
      "- Số nhân viên: 1\n",
      "- Tỷ lệ: 20.0%\n",
      "2./ Tên đơn vị: A2\n",
      "- Số nhân viên: 1\n",
      "- Tỷ lệ: 20.0%\n",
      "3./ Tên đơn vị: A3\n",
      "- Số nhân viên: 1\n",
      "- Tỷ lệ: 20.0%\n",
      "4./ Tên đơn vị: A4\n",
      "- Số nhân viên: 2\n",
      "- Tỷ lệ: 40.0%\n"
     ]
    }
   ],
   "source": [
    "import json\n",
    "with open('nhanvien.json','r',encoding='utf-8') as f:\n",
    "    data_json = json.load(f)\n",
    "ten_cong_ty = data_json[\"company\"][\"name\"]\n",
    "dia_chi_cong_ty = data_json[\"company\"][\"address\"]\n",
    "nhan_vien_cong_ty = data_json[\"company\"][\"employees\"]\n",
    "#tinh tong nv\n",
    "tong_nv = len(nhan_vien_cong_ty)\n",
    "# thong ke so nv va ti le %\n",
    "thong_ke = {}\n",
    "for nv in nhan_vien_cong_ty:\n",
    "    don_vi = nv[\"dvi\"]\n",
    "    thong_ke[don_vi] = thong_ke.get(don_vi,0) +1\n",
    "print(f\"Tên công ty:{ten_cong_ty}\")\n",
    "print(f\"Địa chỉ công ty:{dia_chi_cong_ty}\")\n",
    "print(f\"Nhân viên:{tong_nv}\")\n",
    "print(\"-- Thống kê nhân viên theo đơn vị --\")\n",
    "for i, (don_vi, so_nv) in enumerate(thong_ke.items(), start=1):\n",
    "    ty_le = round(so_nv / tong_nv * 100, 2)\n",
    "    print(f\"{i}./ Tên đơn vị: {don_vi}\")\n",
    "    print(f\"- Số nhân viên: {so_nv}\")\n",
    "    print(f\"- Tỷ lệ: {ty_le}%\")\n",
    "    \n"
   ]
  }
 ],
 "metadata": {
  "kernelspec": {
   "display_name": "Python 3",
   "language": "python",
   "name": "python3"
  },
  "language_info": {
   "codemirror_mode": {
    "name": "ipython",
    "version": 3
   },
   "file_extension": ".py",
   "mimetype": "text/x-python",
   "name": "python",
   "nbconvert_exporter": "python",
   "pygments_lexer": "ipython3",
   "version": "3.13.7"
  }
 },
 "nbformat": 4,
 "nbformat_minor": 5
}
