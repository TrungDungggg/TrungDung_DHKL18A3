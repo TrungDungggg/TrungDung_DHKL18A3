{
 "cells": [
  {
   "cell_type": "code",
   "execution_count": 4,
   "id": "863f9a92",
   "metadata": {},
   "outputs": [
    {
     "name": "stdout",
     "output_type": "stream",
     "text": [
      "Tổng số bài viết:5\n",
      "ID bài đăng: 1\n",
      "Họ tên: id labore ex et quam laborum\n",
      "Địa chỉ email: Eliseo@gardner.biz\n",
      "Nội dung: laudantium enim quasi est quidem magnam voluptate ipsam eos\n",
      "tempora quo necessitatibus\n",
      "dolor quam autem quasi\n",
      "reiciendis et nam sapiente accusantium\n",
      "------------------------------------------------------------\n",
      "Tổng số bài viết:5\n",
      "ID bài đăng: 2\n",
      "Họ tên: quo vero reiciendis velit similique earum\n",
      "Địa chỉ email: Jayne_Kuhic@sydney.com\n",
      "Nội dung: est natus enim nihil est dolore omnis voluptatem numquam\n",
      "et omnis occaecati quod ullam at\n",
      "voluptatem error expedita pariatur\n",
      "nihil sint nostrum voluptatem reiciendis et\n",
      "------------------------------------------------------------\n",
      "Tổng số bài viết:5\n",
      "ID bài đăng: 3\n",
      "Họ tên: odio adipisci rerum aut animi\n",
      "Địa chỉ email: Nikita@garfield.biz\n",
      "Nội dung: quia molestiae reprehenderit quasi aspernatur\n",
      "aut expedita occaecati aliquam eveniet laudantium\n",
      "omnis quibusdam delectus saepe quia accusamus maiores nam est\n",
      "cum et ducimus et vero voluptates excepturi deleniti ratione\n",
      "------------------------------------------------------------\n"
     ]
    }
   ],
   "source": [
    "import requests\n",
    "response = requests.get('https://jsonplaceholder.typicode.com/comments?postId=1')\n",
    "if response.status_code ==200:\n",
    "    json_data = response.json()\n",
    "    tong_so_bai_post = len(json_data)\n",
    "    noi_bat = json_data[:3]\n",
    "    for post in noi_bat:\n",
    "        print(f\"Tổng số bài viết:{tong_so_bai_post}\")\n",
    "        print(\"ID bài đăng:\",post['id'])\n",
    "        print(\"Họ tên:\",post['name'])\n",
    "        print(\"Địa chỉ email:\",post['email'])\n",
    "        print(\"Nội dung:\",post['body'])\n",
    "        print(\"-\" * 60)\n",
    "\n"
   ]
  }
 ],
 "metadata": {
  "kernelspec": {
   "display_name": "Python 3",
   "language": "python",
   "name": "python3"
  },
  "language_info": {
   "codemirror_mode": {
    "name": "ipython",
    "version": 3
   },
   "file_extension": ".py",
   "mimetype": "text/x-python",
   "name": "python",
   "nbconvert_exporter": "python",
   "pygments_lexer": "ipython3",
   "version": "3.13.7"
  }
 },
 "nbformat": 4,
 "nbformat_minor": 5
}
