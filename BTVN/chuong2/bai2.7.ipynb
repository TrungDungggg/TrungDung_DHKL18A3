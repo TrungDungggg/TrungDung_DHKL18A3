{
 "cells": [
  {
   "cell_type": "code",
   "execution_count": 13,
   "id": "c0edcaeb",
   "metadata": {},
   "outputs": [
    {
     "name": "stdout",
     "output_type": "stream",
     "text": [
      "Dữ liệu json:  {'name': 'Nguyễn Văn A', 'age': 35, 'location': 'Hà Nội', 'phone': 123456}\n",
      "Tên: Nguyễn Văn A\n",
      "Tuổi: 35\n",
      "Địa chỉ: Hà Nội\n",
      "SDT: 123456\n"
     ]
    }
   ],
   "source": [
    "import json\n",
    "json_data = '{\"name\":\"Nguyễn Văn A\",\"age\":35,\"location\":\"Hà Nội\",\"phone\":123456}'\n",
    "python_data = json.loads(json_data)\n",
    "print(\"Dữ liệu json: \",python_data)\n",
    "print(\"Tên:\",python_data[\"name\"])\n",
    "print(\"Tuổi:\",python_data[\"age\"])\n",
    "print(\"Địa chỉ:\",python_data[\"location\"])\n",
    "print(\"SDT:\",python_data[\"phone\"])"
   ]
  }
 ],
 "metadata": {
  "kernelspec": {
   "display_name": "Python 3",
   "language": "python",
   "name": "python3"
  },
  "language_info": {
   "codemirror_mode": {
    "name": "ipython",
    "version": 3
   },
   "file_extension": ".py",
   "mimetype": "text/x-python",
   "name": "python",
   "nbconvert_exporter": "python",
   "pygments_lexer": "ipython3",
   "version": "3.13.7"
  }
 },
 "nbformat": 4,
 "nbformat_minor": 5
}
