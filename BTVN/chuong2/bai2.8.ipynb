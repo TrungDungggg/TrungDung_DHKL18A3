{
 "cells": [
  {
   "cell_type": "code",
   "execution_count": 2,
   "id": "c38f41cb",
   "metadata": {},
   "outputs": [
    {
     "name": "stdout",
     "output_type": "stream",
     "text": [
      "Chuỗi json sau khi chuyển đổi: {\n",
      "    \"name\": \"Nguyen Van A\",\n",
      "    \"age\": 25,\n",
      "    \"city\": \"Hà Nội\",\n",
      "    \"skills\": [\n",
      "        \"Python\",\n",
      "        \"JavaScript\",\n",
      "        \"SQL\"\n",
      "    ]\n",
      "}\n"
     ]
    }
   ],
   "source": [
    "import json \n",
    "python_data = {\n",
    "    \"name\": \"Nguyen Van A\",\n",
    "    \"age\": 25,\n",
    "    \"city\": \"Hà Nội\",\n",
    "    \"skills\": [\"Python\", \"JavaScript\", \"SQL\"]\n",
    "}\n",
    "json_string = json.dumps(python_data,ensure_ascii=False,indent=4)\n",
    "print(\"Chuỗi json sau khi chuyển đổi:\",json_string)"
   ]
  }
 ],
 "metadata": {
  "kernelspec": {
   "display_name": "Python 3",
   "language": "python",
   "name": "python3"
  },
  "language_info": {
   "codemirror_mode": {
    "name": "ipython",
    "version": 3
   },
   "file_extension": ".py",
   "mimetype": "text/x-python",
   "name": "python",
   "nbconvert_exporter": "python",
   "pygments_lexer": "ipython3",
   "version": "3.13.7"
  }
 },
 "nbformat": 4,
 "nbformat_minor": 5
}
