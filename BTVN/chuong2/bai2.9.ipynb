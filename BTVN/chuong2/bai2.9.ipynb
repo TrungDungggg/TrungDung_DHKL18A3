{
 "cells": [
  {
   "cell_type": "code",
   "execution_count": null,
   "id": "bdd580fc",
   "metadata": {},
   "outputs": [
    {
     "name": "stdout",
     "output_type": "stream",
     "text": [
      "Chuỗi python sau khi được mã hóa thành json: {\n",
      "    \"Auổi\": \"18\",\n",
      "    \"Công việc\": \"Sinh viên\",\n",
      "    \"Họ tên\": \"Nguyễn Văn A\",\n",
      "    \"SDT\": 123,\n",
      "    \"Địa chỉ\": \"Hà Nội\"\n",
      "}\n"
     ]
    }
   ],
   "source": [
    "import json\n",
    "py_thon = {\n",
    "    \"Họ tên\": \"Nguyễn Văn A\",\n",
    "    \"Tuổi\": \"18\",\n",
    "    \"Địa chỉ\": \"Hà Nội\",\n",
    "    \"SDT\":123,\n",
    "    \"Công việc\":\"Sinh viên\"\n",
    "}\n",
    "j_son = json.dumps(py_thon,ensure_ascii=False,indent=4,sort_keys=True)\n",
    "print(\"Chuỗi python sau khi được mã hóa thành json:\",j_son)"
   ]
  }
 ],
 "metadata": {
  "kernelspec": {
   "display_name": "Python 3",
   "language": "python",
   "name": "python3"
  },
  "language_info": {
   "codemirror_mode": {
    "name": "ipython",
    "version": 3
   },
   "file_extension": ".py",
   "mimetype": "text/x-python",
   "name": "python",
   "nbconvert_exporter": "python",
   "pygments_lexer": "ipython3",
   "version": "3.13.7"
  }
 },
 "nbformat": 4,
 "nbformat_minor": 5
}
