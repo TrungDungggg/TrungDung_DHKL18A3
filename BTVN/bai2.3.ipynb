{
 "cells": [
  {
   "cell_type": "code",
   "execution_count": 3,
   "id": "ac344599",
   "metadata": {},
   "outputs": [
    {
     "name": "stdout",
     "output_type": "stream",
     "text": [
      "#document\n",
      "company\n"
     ]
    }
   ],
   "source": [
    "import xml.dom.minidom\n",
    "def main():\n",
    "    doc=xml.dom.minidom.parse(\"sample.xml\")\n",
    "    print(doc.nodeName)\n",
    "    print(doc.firstChild.tagName)\n",
    "if __name__==\"__main__\":\n",
    "    main()"
   ]
  }
 ],
 "metadata": {
  "kernelspec": {
   "display_name": "Python 3",
   "language": "python",
   "name": "python3"
  },
  "language_info": {
   "codemirror_mode": {
    "name": "ipython",
    "version": 3
   },
   "file_extension": ".py",
   "mimetype": "text/x-python",
   "name": "python",
   "nbconvert_exporter": "python",
   "pygments_lexer": "ipython3",
   "version": "3.13.7"
  }
 },
 "nbformat": 4,
 "nbformat_minor": 5
}
