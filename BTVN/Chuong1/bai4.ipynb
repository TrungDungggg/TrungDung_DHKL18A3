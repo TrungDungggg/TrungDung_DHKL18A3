{
 "cells": [
  {
   "cell_type": "code",
   "execution_count": 16,
   "id": "fea9406b",
   "metadata": {},
   "outputs": [
    {
     "name": "stdout",
     "output_type": "stream",
     "text": [
      "Stack đã được khởi tạo\n",
      "Stack bị hủy\n",
      "danh sách đã nhập: [1.4, 1.3, 1.2]\n",
      "Lấy 1 phần tử từ đỉnh ngăn sắp xếp: 1.4\n",
      "danh sách đã nhập: [1.3, 1.2]\n",
      "Ngăn sắp xếp đã rỗng chưa:  False\n",
      "danh sách đã nhập: [1.3, 1.2]\n"
     ]
    }
   ],
   "source": [
    "class Stack:\n",
    "    def __init__(self, du_lieu):\n",
    "        self.du_lieu = du_lieu\n",
    "        self.data = []\n",
    "        print(\"Stack đã được khởi tạo\")\n",
    "    def __del__(self):\n",
    "        print(\"Stack bị hủy\")\n",
    "    def isEmpty(self):\n",
    "        return len(self.data) == 0 \n",
    "    def isFull(self):\n",
    "        return len(self.data) == self.du_lieu\n",
    "    def push(self,value):\n",
    "        if self.isFull():\n",
    "            print(\"Ngăn xếp đầy\")\n",
    "            return False\n",
    "        self.data.append(float(value))\n",
    "        return True\n",
    "    def pop(self):\n",
    "        if self.isEmpty():\n",
    "            print(\"Ngăn xếp rỗng\")\n",
    "            return None\n",
    "        return self.data.pop()\n",
    "    def display(self):\n",
    "        print(\"danh sách đã nhập:\", list(reversed(self.data)))\n",
    "s = Stack(3)\n",
    "s.push(1.2)\n",
    "s.push(1.3)\n",
    "s.push(1.4)\n",
    "s.display()\n",
    "print(\"Lấy 1 phần tử từ đỉnh ngăn sắp xếp:\",s.pop())\n",
    "s.display()\n",
    "print(\"Ngăn sắp xếp đã rỗng chưa: \",s.isEmpty())\n",
    "s.display()"
   ]
  }
 ],
 "metadata": {
  "kernelspec": {
   "display_name": "Python 3",
   "language": "python",
   "name": "python3"
  },
  "language_info": {
   "codemirror_mode": {
    "name": "ipython",
    "version": 3
   },
   "file_extension": ".py",
   "mimetype": "text/x-python",
   "name": "python",
   "nbconvert_exporter": "python",
   "pygments_lexer": "ipython3",
   "version": "3.13.7"
  }
 },
 "nbformat": 4,
 "nbformat_minor": 5
}
