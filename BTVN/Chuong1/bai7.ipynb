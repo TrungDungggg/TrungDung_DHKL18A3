{
 "cells": [
  {
   "cell_type": "code",
   "execution_count": 4,
   "id": "0aa6e6cd",
   "metadata": {},
   "outputs": [
    {
     "name": "stdout",
     "output_type": "stream",
     "text": [
      "Ngay hien tai\n",
      "31/03/2024\n",
      "Ngay tiep theo\n",
      "01/04/2024\n"
     ]
    }
   ],
   "source": [
    "class Date:\n",
    "    def __init__(self,ngay,thang,nam):\n",
    "        self.ngay = ngay\n",
    "        self.nam = nam\n",
    "        self.thang = thang \n",
    "    def display(self):\n",
    "        print(f\"{self.ngay:02d}/{self.thang:02d}/{self.nam}\")\n",
    "    def check_nam_nhuan(self):\n",
    "        return (self.year % 4 == 0 and self.year % 100 != 0)\n",
    "    def next(self):\n",
    "        if self.check_nam_nhuan:\n",
    "            thang_2=29\n",
    "        else:\n",
    "            thang_2=28\n",
    "        Ngay_trong_thang = [31, thang_2, 31, 30, 31, 30, 31, 31, 30, 31, 30, 31]\n",
    "        self.ngay +=1 \n",
    "        if self.ngay > Ngay_trong_thang[self.thang-1]:\n",
    "            self.ngay = 1\n",
    "            self.thang +=1\n",
    "            if self.thang>12:\n",
    "                self.thang = 1 \n",
    "                self.year +=1\n",
    "d1 = Date(31,3,2024)\n",
    "print(\"Ngay hien tai\")\n",
    "d1.display()\n",
    "print(\"Ngay tiep theo\")\n",
    "d1.next()\n",
    "d1.display()"
   ]
  }
 ],
 "metadata": {
  "kernelspec": {
   "display_name": "Python 3",
   "language": "python",
   "name": "python3"
  },
  "language_info": {
   "codemirror_mode": {
    "name": "ipython",
    "version": 3
   },
   "file_extension": ".py",
   "mimetype": "text/x-python",
   "name": "python",
   "nbconvert_exporter": "python",
   "pygments_lexer": "ipython3",
   "version": "3.13.7"
  }
 },
 "nbformat": 4,
 "nbformat_minor": 5
}
