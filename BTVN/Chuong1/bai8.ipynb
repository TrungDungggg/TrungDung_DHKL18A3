{
 "cells": [
  {
   "cell_type": "code",
   "execution_count": 6,
   "id": "7e1ce871",
   "metadata": {},
   "outputs": [
    {
     "name": "stdout",
     "output_type": "stream",
     "text": [
      "Họ và tên nhân viên:Trung Dũng\n",
      "Ngày sinh nhân viên: 20/07/2006\n",
      "Ngày vào công ty: 10/10/2025\n"
     ]
    }
   ],
   "source": [
    "class Date:\n",
    "    def __init__(self, day=1, month=1, year=2000):\n",
    "        self.day = day\n",
    "        self.month = month\n",
    "        self.year = year\n",
    "    def display(self):\n",
    "        print(f\"{self.day:02d}/{self.month:02d}/{self.year}\")\n",
    "    def is_leap_year(self):\n",
    "        return (self.year % 4 == 0 and self.year % 100 != 0) or (self.year % 400 == 0)\n",
    "class Employee:\n",
    "    def __init__(self,ho_ten,ngay_sinh,ngay_vao):\n",
    "        self.ho_ten = ho_ten\n",
    "        self.ngay_sinh = ngay_sinh\n",
    "        self.ngay_vao = ngay_vao\n",
    "    def display(self):\n",
    "        print(f\"Họ và tên nhân viên:{self.ho_ten}\")\n",
    "        print(\"Ngày sinh nhân viên:\",end=\" \")\n",
    "        self.ngay_sinh.display()\n",
    "        print(\"Ngày vào công ty:\",end=\" \")\n",
    "        self.ngay_vao.display()\n",
    "ngaysinh = Date(20,7,2006)\n",
    "ngayvao = Date(10,10,2025)\n",
    "nv = Employee(\"Trung Dũng\",ngaysinh,ngayvao)\n",
    "nv.display()"
   ]
  },
  {
   "cell_type": "code",
   "execution_count": null,
   "id": "58872faf",
   "metadata": {},
   "outputs": [],
   "source": []
  }
 ],
 "metadata": {
  "kernelspec": {
   "display_name": "Python 3",
   "language": "python",
   "name": "python3"
  },
  "language_info": {
   "codemirror_mode": {
    "name": "ipython",
    "version": 3
   },
   "file_extension": ".py",
   "mimetype": "text/x-python",
   "name": "python",
   "nbconvert_exporter": "python",
   "pygments_lexer": "ipython3",
   "version": "3.13.7"
  }
 },
 "nbformat": 4,
 "nbformat_minor": 5
}
