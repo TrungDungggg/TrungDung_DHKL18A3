{
 "cells": [
  {
   "cell_type": "code",
   "execution_count": null,
   "id": "7b0840a6",
   "metadata": {},
   "outputs": [
    {
     "name": "stdout",
     "output_type": "stream",
     "text": [
      "Stack đã được khởi tạo\n",
      "danh sách đã nhập: [3.0, 2.0, 1.0]\n",
      "Số phàn tử trong ngăn sắp xếp: 3\n",
      "Số phần tử sau khi lấy ra:  2\n"
     ]
    }
   ],
   "source": [
    "class Stack:\n",
    "    def __init__(self, du_lieu):\n",
    "        self.du_lieu = du_lieu\n",
    "        self.data = []\n",
    "        print(\"Stack đã được khởi tạo\")\n",
    "    def __del__(self):\n",
    "        print(\"Stack bị hủy\")\n",
    "    def isEmpty(self):\n",
    "        return len(self.data) == 0 \n",
    "    def isFull(self):\n",
    "        return len(self.data) == self.du_lieu\n",
    "    def push(self,value):\n",
    "        if self.isFull():\n",
    "            print(\"Ngăn xếp đầy\")\n",
    "            return False\n",
    "        self.data.append(float(value))\n",
    "        return True\n",
    "    def pop(self):\n",
    "        if self.isEmpty():\n",
    "            print(\"Ngăn xếp rỗng\")\n",
    "            return None\n",
    "        return self.data.pop()\n",
    "    def display(self):\n",
    "        print(\"danh sách đã nhập:\", list(reversed(self.data)))\n",
    "    def Count(self):\n",
    "        return len(self.data)\n",
    "s = Stack(3)\n",
    "s.push(1)\n",
    "s.push(2)\n",
    "s.push(3)\n",
    "s.display()\n",
    "print(\"Số phàn tử trong ngăn sắp xếp:\",s.Count())\n",
    "s.pop()\n",
    "print(\"Số phần tử sau khi lấy ra: \",s.Count())\n"
   ]
  }
 ],
 "metadata": {
  "kernelspec": {
   "display_name": "Python 3",
   "language": "python",
   "name": "python3"
  },
  "language_info": {
   "codemirror_mode": {
    "name": "ipython",
    "version": 3
   },
   "file_extension": ".py",
   "mimetype": "text/x-python",
   "name": "python",
   "nbconvert_exporter": "python",
   "pygments_lexer": "ipython3",
   "version": "3.13.7"
  }
 },
 "nbformat": 4,
 "nbformat_minor": 5
}
