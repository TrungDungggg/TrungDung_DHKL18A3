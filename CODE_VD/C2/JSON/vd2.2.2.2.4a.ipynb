{
 "cells": [
  {
   "cell_type": "code",
   "execution_count": 2,
   "id": "80760e9e",
   "metadata": {},
   "outputs": [
    {
     "name": "stdout",
     "output_type": "stream",
     "text": [
      "{\"custom_data\": {\"key\": \"value\"}}\n"
     ]
    }
   ],
   "source": [
    "import json \n",
    "class CustomObject:\n",
    "    def __init__(self,data):\n",
    "        self.data = data \n",
    "    def to_dict(self):\n",
    "        return {\"custom_data\":self.data}\n",
    "class CustomObjectEncoder(json.JSONEncoder):\n",
    "    def default(self, obj):\n",
    "        if isinstance(obj,CustomObject):\n",
    "            return obj.to_dict()\n",
    "        return super().default(obj)\n",
    "custom_obj = CustomObject({'key':\"value\"})\n",
    "json_data = json.dumps(custom_obj,cls=CustomObjectEncoder)\n",
    "print(json_data)\n",
    "        "
   ]
  },
  {
   "cell_type": "code",
   "execution_count": null,
   "id": "c3c31eb9",
   "metadata": {},
   "outputs": [
    {
     "name": "stdout",
     "output_type": "stream",
     "text": [
      "{\n",
      "  \"item\": {\n",
      "    \"__type__\": \"CustomObject\",\n",
      "    \"name\": \"CT\",\n",
      "    \"value\": 42\n",
      "  }\n",
      "}\n"
     ]
    }
   ],
   "source": [
    "import json\n",
    "class CustomObject:\n",
    "    def __init__(self, name, value):\n",
    "        self.name = name\n",
    "        self.value = valuey\n",
    "    def to_dict(self):\n",
    "        return {\"__type__\": \"CustomObject\", \"name\": self.name, \"value\": self.value}\n",
    "class CustomObjectEncoder(json.JSONEncoder):\n",
    "    def default(self, obj):\n",
    "        if isinstance(obj, CustomObject):\n",
    "            return obj.to_dict()\n",
    "        return super().default(obj)\n",
    "data = {\"item\": CustomObject(\"CT\", 42)}\n",
    "data_st = json.dumps(data, cls=CustomObjectEncoder, ensure_ascii=False, indent=2)\n",
    "print(data_st)"
   ]
  }
 ],
 "metadata": {
  "kernelspec": {
   "display_name": "Python 3",
   "language": "python",
   "name": "python3"
  },
  "language_info": {
   "codemirror_mode": {
    "name": "ipython",
    "version": 3
   },
   "file_extension": ".py",
   "mimetype": "text/x-python",
   "name": "python",
   "nbconvert_exporter": "python",
   "pygments_lexer": "ipython3",
   "version": "3.13.7"
  }
 },
 "nbformat": 4,
 "nbformat_minor": 5
}
