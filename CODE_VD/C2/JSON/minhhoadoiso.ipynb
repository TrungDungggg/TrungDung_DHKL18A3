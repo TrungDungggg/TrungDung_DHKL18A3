{
 "cells": [
  {
   "cell_type": "code",
   "execution_count": 16,
   "id": "46d2694a",
   "metadata": {},
   "outputs": [
    {
     "name": "stdout",
     "output_type": "stream",
     "text": [
      "{\n",
      "    \"name\": \"Nguyen Van A\",\n",
      "    \"age\": \"23\",\n",
      "    \"Skill\": [\n",
      "        \"AI\",\n",
      "        \"Python\"\n",
      "    ]\n",
      "}\n"
     ]
    }
   ],
   "source": [
    "import json\n",
    "data ={\"name\": \"Nguyen Van A\", \"age\": \"23\", \"Skill\":[\"AI\",\"Python\"]}\n",
    "json_st1=json.dumps(data, indent=4,ensure_ascii=False) # chuyển đối tượng python thành json, đối số ensure_ascii = False để giữ nguyên kí tự\n",
    "print(json_st1)"
   ]
  }
 ],
 "metadata": {
  "kernelspec": {
   "display_name": "Python 3",
   "language": "python",
   "name": "python3"
  },
  "language_info": {
   "codemirror_mode": {
    "name": "ipython",
    "version": 3
   },
   "file_extension": ".py",
   "mimetype": "text/x-python",
   "name": "python",
   "nbconvert_exporter": "python",
   "pygments_lexer": "ipython3",
   "version": "3.13.7"
  }
 },
 "nbformat": 4,
 "nbformat_minor": 5
}
