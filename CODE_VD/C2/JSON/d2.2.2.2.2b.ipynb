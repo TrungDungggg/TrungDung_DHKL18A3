{
 "cells": [
  {
   "cell_type": "code",
   "execution_count": null,
   "id": "06254f61",
   "metadata": {},
   "outputs": [
    {
     "name": "stdout",
     "output_type": "stream",
     "text": [
      "Du lieu da dc ghi thanh cong vao tep thongtin.json\n"
     ]
    }
   ],
   "source": [
    "import json\n",
    "data = {\n",
    "     \"ho_va_ten\": \"Nguyễn Văn A\", \n",
    "    \"nam_sinh\": 2004, \n",
    "    \"gioi_tinh\": \"Nam\", \n",
    "    \"sdt\": \"0123456789\", \n",
    "    \"email\": \"nguyenvana@uneti.edu.vn\" \n",
    "}\n",
    "#ham json.dump se ghi doi tuong python truc tiep vao tep da mo, f la dai dien cho tep da mo \n",
    "with open('thongtin.json',\"w\",encoding='utf-8') as f: # mo tep thongtin.json de ghi du lieu, neu tep 0 ton tai se tu dong \n",
    "    json.dump(data,f,ensure_ascii=False,indent=4) #ham dump() ghi doi tuong python vao file thongtin.json\n",
    "print(\"Du lieu da dc ghi thanh cong vao tep thongtin.json\")"
   ]
  }
 ],
 "metadata": {
  "kernelspec": {
   "display_name": "Python 3",
   "language": "python",
   "name": "python3"
  },
  "language_info": {
   "codemirror_mode": {
    "name": "ipython",
    "version": 3
   },
   "file_extension": ".py",
   "mimetype": "text/x-python",
   "name": "python",
   "nbconvert_exporter": "python",
   "pygments_lexer": "ipython3",
   "version": "3.13.7"
  }
 },
 "nbformat": 4,
 "nbformat_minor": 5
}
