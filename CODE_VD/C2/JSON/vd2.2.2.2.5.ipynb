{
 "cells": [
  {
   "cell_type": "code",
   "execution_count": 6,
   "id": "1399fe42",
   "metadata": {},
   "outputs": [
    {
     "name": "stdout",
     "output_type": "stream",
     "text": [
      "{'colour': ['red', 'Yelllow']}\n",
      "<class 'dict'>\n"
     ]
    }
   ],
   "source": [
    "import json \n",
    "from json.decoder import JSONDecoder\n",
    "colour_string = '{\"colour\": [\"red\",\"Yelllow\"]}'\n",
    "decoded_object = JSONDecoder().decode(colour_string)\n",
    "print(decoded_object)\n",
    "print(type(decoded_object))"
   ]
  },
  {
   "cell_type": "code",
   "execution_count": null,
   "id": "654dd9b2",
   "metadata": {},
   "outputs": [
    {
     "name": "stdout",
     "output_type": "stream",
     "text": [
      "Name: requests\n",
      "Version: 2.32.5\n",
      "Summary: Python HTTP for Humans.\n",
      "Home-page: https://requests.readthedocs.io\n",
      "Author: Kenneth Reitz\n",
      "Author-email: me@kennethreitz.org\n",
      "License: Apache-2.0\n",
      "Location: C:\\Users\\Admin\\AppData\\Local\\Programs\\Python\\Python313\\Lib\\site-packages\n",
      "Requires: certifi, charset_normalizer, idna, urllib3\n",
      "Required-by: \n",
      "Requirement already satisfied: requests in c:\\users\\admin\\appdata\\local\\programs\\python\\python313\\lib\\site-packages (2.32.5)\n",
      "Requirement already satisfied: charset_normalizer<4,>=2 in c:\\users\\admin\\appdata\\local\\programs\\python\\python313\\lib\\site-packages (from requests) (3.4.4)\n",
      "Requirement already satisfied: idna<4,>=2.5 in c:\\users\\admin\\appdata\\local\\programs\\python\\python313\\lib\\site-packages (from requests) (3.11)\n",
      "Requirement already satisfied: urllib3<3,>=1.21.1 in c:\\users\\admin\\appdata\\local\\programs\\python\\python313\\lib\\site-packages (from requests) (2.5.0)\n",
      "Requirement already satisfied: certifi>=2017.4.17 in c:\\users\\admin\\appdata\\local\\programs\\python\\python313\\lib\\site-packages (from requests) (2025.10.5)\n",
      "Name: requests\n",
      "Version: 2.32.5\n",
      "Summary: Python HTTP for Humans.\n",
      "Home-page: https://requests.readthedocs.io\n",
      "Author: Kenneth Reitz\n",
      "Author-email: me@kennethreitz.org\n",
      "License: Apache-2.0\n",
      "Location: C:\\Users\\Admin\\AppData\\Local\\Programs\\Python\\Python313\\Lib\\site-packages\n",
      "Requires: certifi, charset_normalizer, idna, urllib3\n",
      "Required-by: \n"
     ]
    }
   ],
   "source": [
    "import requests\n",
    "# thuc hien yeu cau http den url \n",
    "response = requests.get('https://jsonplaceholder.typicode.com/posts')\n",
    "#ktra xem yeu cau thanh cong hay ko \n",
    "if response.status_code == 200:\n",
    "    json_data = response.json()\n",
    "    for post in json_data:\n",
    "        print(\"ID bai dang: \",post['id'])\n",
    "        print(\"Tieu de: \",post['title'])\n",
    "        print(\"ND: \",post['body'])\n",
    "        print(\"=====================0\")\n",
    "else:\n",
    "    print(\"Yeu cau 0 thanh cong. Ma trang thai:\",response.status_code)"
   ]
  }
 ],
 "metadata": {
  "kernelspec": {
   "display_name": "Python 3",
   "language": "python",
   "name": "python3"
  },
  "language_info": {
   "codemirror_mode": {
    "name": "ipython",
    "version": 3
   },
   "file_extension": ".py",
   "mimetype": "text/x-python",
   "name": "python",
   "nbconvert_exporter": "python",
   "pygments_lexer": "ipython3",
   "version": "3.13.7"
  }
 },
 "nbformat": 4,
 "nbformat_minor": 5
}
