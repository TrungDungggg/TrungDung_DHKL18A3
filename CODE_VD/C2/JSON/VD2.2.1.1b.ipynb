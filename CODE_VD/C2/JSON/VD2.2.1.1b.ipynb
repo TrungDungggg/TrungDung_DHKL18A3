{
 "cells": [
  {
   "cell_type": "code",
   "execution_count": 1,
   "id": "3d6200c4",
   "metadata": {},
   "outputs": [
    {
     "data": {
      "text/plain": [
       "dict"
      ]
     },
     "execution_count": 1,
     "metadata": {},
     "output_type": "execute_result"
    }
   ],
   "source": [
    "data ={\n",
    "    \"lop\":\"K18A\",\n",
    "    \"mon_hoc\":\"PYthon nâng cao\",\n",
    "    \"sinh_vien\":[\n",
    "        {\"ho_ten\":\"NGuyen Van A\",\"nam_sinh\":2004,\"diem_tb\":8.2},\n",
    "        {\"ho_ten\":\"NGuyen Van B\",\"nam_sinh\":2003,\"diem_tb\":7.6}\n",
    "    ],\n",
    "    \"giang_vien\":{\"ten\":\"CT\",\"email\": \"ct@uneti.edu\"},\n",
    "    \"dang_mo\":True, # boolean python khác với json, trong json true/false viết thường\n",
    "    \"ghi_chu\":None # None trong python giống vs null trong json\n",
    "}\n",
    "type(data)"
   ]
  }
 ],
 "metadata": {
  "kernelspec": {
   "display_name": "Python 3",
   "language": "python",
   "name": "python3"
  },
  "language_info": {
   "codemirror_mode": {
    "name": "ipython",
    "version": 3
   },
   "file_extension": ".py",
   "mimetype": "text/x-python",
   "name": "python",
   "nbconvert_exporter": "python",
   "pygments_lexer": "ipython3",
   "version": "3.13.7"
  }
 },
 "nbformat": 4,
 "nbformat_minor": 5
}
