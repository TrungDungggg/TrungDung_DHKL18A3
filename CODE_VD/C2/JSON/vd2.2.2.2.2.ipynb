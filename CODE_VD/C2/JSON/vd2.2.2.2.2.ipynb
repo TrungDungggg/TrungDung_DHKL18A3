{
 "cells": [
  {
   "cell_type": "code",
   "execution_count": null,
   "id": "7d7099b4",
   "metadata": {},
   "outputs": [],
   "source": [
    "import json\n",
    "json_string_1 = '{\"name\":A, \"age\": 35,\"Company\":\"Dat Viet\"}'\n",
    "json_string_2 = \"{\\\"name\\\": \\\"A\\\", \\\"age\\\"}\""
   ]
  }
 ],
 "metadata": {
  "language_info": {
   "name": "python"
  }
 },
 "nbformat": 4,
 "nbformat_minor": 5
}
