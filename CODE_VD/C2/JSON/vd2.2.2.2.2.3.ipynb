{
 "cells": [
  {
   "cell_type": "code",
   "execution_count": 2,
   "id": "e2dd4f60",
   "metadata": {},
   "outputs": [
    {
     "name": "stdout",
     "output_type": "stream",
     "text": [
      "{'ho_va_ten': 'Nguyễn Văn A', 'nam_sinh': 2004, 'gioi_tinh': 'Nam', 'sdt': '0123456789', 'email': 'nguyenvana@uneti.edu.vn'}\n",
      "<class 'dict'>\n"
     ]
    }
   ],
   "source": [
    "import json\n",
    "with open('thongtin.json','r',encoding='utf-8') as f:\n",
    "    infor = json.load(f)\n",
    "    print(infor)\n",
    "    print(type(infor))"
   ]
  }
 ],
 "metadata": {
  "kernelspec": {
   "display_name": "Python 3",
   "language": "python",
   "name": "python3"
  },
  "language_info": {
   "codemirror_mode": {
    "name": "ipython",
    "version": 3
   },
   "file_extension": ".py",
   "mimetype": "text/x-python",
   "name": "python",
   "nbconvert_exporter": "python",
   "pygments_lexer": "ipython3",
   "version": "3.13.7"
  }
 },
 "nbformat": 4,
 "nbformat_minor": 5
}
