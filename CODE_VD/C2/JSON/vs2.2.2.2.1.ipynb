{
 "cells": [
  {
   "cell_type": "code",
   "execution_count": 1,
   "id": "6c20d165",
   "metadata": {},
   "outputs": [
    {
     "name": "stdout",
     "output_type": "stream",
     "text": [
      "<class 'dict'>\n",
      "{\"name\": \"A\", \"age\": 35, \"company\": \"DAt Viet\"}\n",
      "<class 'str'>\n"
     ]
    }
   ],
   "source": [
    "import json\n",
    "data = {\n",
    "    \"name\":\"A\",\n",
    "    \"age\":35,\n",
    "    \"company\":\"DAt Viet\"\n",
    "}\n",
    "print(type(data))\n",
    "json_string = json.dumps(data, ensure_ascii=False) \n",
    "print(json_string) \n",
    "print(type(json_string)) \n"
   ]
  }
 ],
 "metadata": {
  "kernelspec": {
   "display_name": "Python 3",
   "language": "python",
   "name": "python3"
  },
  "language_info": {
   "codemirror_mode": {
    "name": "ipython",
    "version": 3
   },
   "file_extension": ".py",
   "mimetype": "text/x-python",
   "name": "python",
   "nbconvert_exporter": "python",
   "pygments_lexer": "ipython3",
   "version": "3.13.7"
  }
 },
 "nbformat": 4,
 "nbformat_minor": 5
}
