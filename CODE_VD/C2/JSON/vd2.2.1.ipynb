{
 "cells": [
  {
   "cell_type": "code",
   "execution_count": 11,
   "id": "8a9c7bcc",
   "metadata": {},
   "outputs": [
    {
     "name": "stdout",
     "output_type": "stream",
     "text": [
      "Đối tượng số phức...... (4+5j)\n",
      "Đối tượng bình thường...... {'real': 6, 'img': 7}\n"
     ]
    }
   ],
   "source": [
    "import json\n",
    "def is_complex(object):\n",
    "    if '__complex__' in object:\n",
    "        return complex(object['real'], object['img'])\n",
    "    return object\n",
    "def main():\n",
    "    complex_object = json.loads('{\"__complex__\": true, \"real\": 4, \"img\": 5}', object_hook=is_complex)\n",
    "    simple_object = json.loads('{\"real\": 6, \"img\": 7}', object_hook=is_complex)\n",
    "    print(\"Đối tượng số phức......\", complex_object)\n",
    "    print(\"Đối tượng bình thường......\", simple_object)\n",
    "if __name__ == \"__main__\":\n",
    "    main()"
   ]
  }
 ],
 "metadata": {
  "kernelspec": {
   "display_name": "Python 3",
   "language": "python",
   "name": "python3"
  },
  "language_info": {
   "codemirror_mode": {
    "name": "ipython",
    "version": 3
   },
   "file_extension": ".py",
   "mimetype": "text/x-python",
   "name": "python",
   "nbconvert_exporter": "python",
   "pygments_lexer": "ipython3",
   "version": "3.13.7"
  }
 },
 "nbformat": 4,
 "nbformat_minor": 5
}
